{
 "cells": [
  {
   "cell_type": "markdown",
   "metadata": {},
   "source": [
    "# operators"
   ]
  },
  {
   "cell_type": "code",
   "execution_count": 2,
   "metadata": {},
   "outputs": [],
   "source": [
    "#arithmetic operator\n",
    "x = 9\n",
    "y = 15\n",
    "z = x+y"
   ]
  },
  {
   "cell_type": "code",
   "execution_count": 5,
   "metadata": {},
   "outputs": [
    {
     "name": "stdout",
     "output_type": "stream",
     "text": [
      "value of z:\n"
     ]
    }
   ],
   "source": [
    "print('value of z:')"
   ]
  },
  {
   "cell_type": "code",
   "execution_count": 10,
   "metadata": {},
   "outputs": [
    {
     "name": "stdout",
     "output_type": "stream",
     "text": [
      "True\n"
     ]
    }
   ],
   "source": [
    "#comparison operators\n",
    "x=5\n",
    "y=11 \n",
    "print(x!=y)"
   ]
  },
  {
   "cell_type": "code",
   "execution_count": 11,
   "metadata": {},
   "outputs": [
    {
     "name": "stdout",
     "output_type": "stream",
     "text": [
      "True\n"
     ]
    }
   ],
   "source": [
    "x=5\n",
    "y=7\n",
    "print(x<7)"
   ]
  },
  {
   "cell_type": "code",
   "execution_count": 13,
   "metadata": {},
   "outputs": [
    {
     "name": "stdout",
     "output_type": "stream",
     "text": [
      "14\n"
     ]
    }
   ],
   "source": [
    "#assignment operators\n",
    "\n",
    "x=10\n",
    "x=x+4\n",
    "\n",
    "print(x)"
   ]
  },
  {
   "cell_type": "code",
   "execution_count": 14,
   "metadata": {},
   "outputs": [
    {
     "name": "stdout",
     "output_type": "stream",
     "text": [
      "18\n"
     ]
    }
   ],
   "source": [
    "x=14\n",
    "x+=4\n",
    "print(x)"
   ]
  },
  {
   "cell_type": "code",
   "execution_count": 15,
   "metadata": {},
   "outputs": [],
   "source": [
    "#logical operators\n",
    "\n",
    "#logical operator in python are used for conditional statement are true or false. logical operator in python\n"
   ]
  },
  {
   "cell_type": "code",
   "execution_count": 22,
   "metadata": {},
   "outputs": [
    {
     "name": "stdout",
     "output_type": "stream",
     "text": [
      "True\n"
     ]
    }
   ],
   "source": [
    "x = True\n",
    "y = True\n",
    "print(x and y)"
   ]
  },
  {
   "cell_type": "code",
   "execution_count": 25,
   "metadata": {},
   "outputs": [
    {
     "name": "stdout",
     "output_type": "stream",
     "text": [
      "True\n"
     ]
    }
   ],
   "source": [
    "x=True\n",
    "y=False\n",
    "print(not y)"
   ]
  },
  {
   "cell_type": "code",
   "execution_count": 33,
   "metadata": {},
   "outputs": [
    {
     "name": "stdout",
     "output_type": "stream",
     "text": [
      "True\n"
     ]
    }
   ],
   "source": [
    "#membership operators\n",
    "list=[1,2,3,4,5]\n",
    "x=2\n",
    "print(x in list)"
   ]
  },
  {
   "cell_type": "code",
   "execution_count": 38,
   "metadata": {},
   "outputs": [
    {
     "name": "stdout",
     "output_type": "stream",
     "text": [
      "False\n"
     ]
    }
   ],
   "source": [
    "#identity oprators\n",
    "x=10\n",
    "y=10\n",
    "print(x is not y)"
   ]
  },
  {
   "cell_type": "code",
   "execution_count": 39,
   "metadata": {},
   "outputs": [
    {
     "name": "stdout",
     "output_type": "stream",
     "text": [
      "True\n"
     ]
    }
   ],
   "source": [
    "x=12\n",
    "y=12\n",
    "print(x is y)"
   ]
  },
  {
   "cell_type": "markdown",
   "metadata": {},
   "source": [
    "# condition statetments"
   ]
  },
  {
   "cell_type": "code",
   "execution_count": 40,
   "metadata": {},
   "outputs": [],
   "source": [
    "#conditional statements\n",
    "\n",
    "#if\n",
    "#if-else\n",
    "#if-else if-else\n",
    "#nested if-else"
   ]
  },
  {
   "cell_type": "code",
   "execution_count": 41,
   "metadata": {},
   "outputs": [
    {
     "name": "stdout",
     "output_type": "stream",
     "text": [
      "positive number\n"
     ]
    }
   ],
   "source": [
    "#if statement\n",
    "#syntax:\n",
    "#if expression:\n",
    "#statement(s);\n",
    "x=15\n",
    "if x>0:\n",
    "    print('positive number')"
   ]
  },
  {
   "cell_type": "code",
   "execution_count": 45,
   "metadata": {},
   "outputs": [
    {
     "name": "stdout",
     "output_type": "stream",
     "text": [
      "you can not drive\n"
     ]
    }
   ],
   "source": [
    "#if-esle statements\n",
    "#syntax:\n",
    "#if expression:\n",
    "    #statement(s)\n",
    " #else:\n",
    "    #statment(s)\n",
    "    \n",
    "age=13\n",
    "if age>18:\n",
    "    print('you can drive')\n",
    "else:\n",
    "    print('you can not drive')"
   ]
  },
  {
   "cell_type": "code",
   "execution_count": 50,
   "metadata": {},
   "outputs": [
    {
     "name": "stdout",
     "output_type": "stream",
     "text": [
      "good bye all of you\n"
     ]
    }
   ],
   "source": [
    "#if-else if-else statements\n",
    "#syntax:\n",
    "#if expression:\n",
    "     #statement(s)\n",
    "#elif expression:\n",
    "     #statement(s)\n",
    " #else:\n",
    "     # statement(s)\n",
    "    \n",
    "name='hallo anupam'\n",
    "if name=='abc':\n",
    "    print('hallo anupam')\n",
    "elif name=='123':\n",
    "     print('hallo numbers')\n",
    "elif name=='+/*':\n",
    "    print('hello operator')\n",
    "else:\n",
    "    print('good bye all of you')"
   ]
  },
  {
   "cell_type": "code",
   "execution_count": 51,
   "metadata": {},
   "outputs": [
    {
     "name": "stdout",
     "output_type": "stream",
     "text": [
      "positive number\n",
      "even number\n"
     ]
    }
   ],
   "source": [
    "#NESTED STATEMENT\n",
    " #SYNTEX:\n",
    "    #if expression:\n",
    "        #statement(s)\n",
    "        # expression:\n",
    "          #statement(s)\n",
    "    #else:\n",
    "         #statement(s)\n",
    "    #else:\n",
    "         #statement(s)\n",
    "        \n",
    "x=16\n",
    "if x>0:\n",
    "    print('positive number')\n",
    "    if x%2==0:\n",
    "        print('even number')\n",
    "    else:\n",
    "        print('odd number')\n",
    "elif x<0:\n",
    "    print('negative  number')\n",
    "else:\n",
    "    print('zero')"
   ]
  },
  {
   "cell_type": "markdown",
   "metadata": {},
   "source": [
    "## LOOP"
   ]
  },
  {
   "cell_type": "code",
   "execution_count": 1,
   "metadata": {},
   "outputs": [
    {
     "name": "stdout",
     "output_type": "stream",
     "text": [
      "count: 0\n",
      "count: 2\n",
      "count: 4\n",
      "count: 6\n",
      "count: 8\n"
     ]
    }
   ],
   "source": [
    "#WHILE LOOP\n",
    "#count=0\n",
    " #while(count<10):\n",
    "       \n",
    "    #print(count)\n",
    "        #count=count+1\n",
    "        \n",
    "count=0\n",
    "while(count<10):\n",
    "    print('count:',count)\n",
    "    count+=2;"
   ]
  },
  {
   "cell_type": "code",
   "execution_count": null,
   "metadata": {},
   "outputs": [],
   "source": [
    "# nested while loop\n",
    "\n",
    "table=3\n",
    "while(table<6):\n",
    "    print('tables of',tables)\n",
    "    mul=1\n",
    "    while(mul<=10):\n",
    "        print(table,'*',mul,'=',table*mul)\n",
    "        mul+=1;\n",
    "        print('')\n",
    "         table+=1"
   ]
  },
  {
   "cell_type": "markdown",
   "metadata": {},
   "source": [
    "## For loop "
   ]
  },
  {
   "cell_type": "code",
   "execution_count": 18,
   "metadata": {},
   "outputs": [
    {
     "name": "stdout",
     "output_type": "stream",
     "text": [
      "animal dog\n",
      "animal cat\n",
      "animal puppy\n",
      "animal lion\n"
     ]
    }
   ],
   "source": [
    "words=['dog','cat','puppy','lion']\n",
    "for w in words:\n",
    "    print('animal',w)"
   ]
  },
  {
   "cell_type": "markdown",
   "metadata": {},
   "source": [
    "## nested for loop"
   ]
  },
  {
   "cell_type": "code",
   "execution_count": 19,
   "metadata": {},
   "outputs": [
    {
     "name": "stdout",
     "output_type": "stream",
     "text": [
      "dog 3\n",
      "dog dog\n",
      "cat dog\n",
      "puppy dog\n",
      "lion dog\n",
      "cat 3\n",
      "dog cat\n",
      "cat cat\n",
      "puppy cat\n",
      "lion cat\n",
      "puppy 5\n",
      "dog puppy\n",
      "cat puppy\n",
      "puppy puppy\n",
      "lion puppy\n",
      "lion 4\n",
      "dog lion\n",
      "cat lion\n",
      "puppy lion\n",
      "lion lion\n"
     ]
    }
   ],
   "source": [
    "#example\n",
    "\n",
    "word = ['cat','dog','puppy','lipn']\n",
    "for w in words:\n",
    "    print(w,len(w))\n",
    "    for a in words:\n",
    "         print(a,w)"
   ]
  },
  {
   "cell_type": "code",
   "execution_count": 23,
   "metadata": {},
   "outputs": [
    {
     "name": "stdout",
     "output_type": "stream",
     "text": [
      "item: 1\n",
      "item: 2\n",
      "item: 3\n",
      "item: 4\n",
      "item: 5\n",
      "item: 6\n",
      "item: 7\n",
      "item: 8\n",
      "item: 9\n"
     ]
    }
   ],
   "source": [
    "#range\n",
    "for item in range(1,10,1):\n",
    "    print('item:',item)"
   ]
  },
  {
   "cell_type": "markdown",
   "metadata": {},
   "source": [
    "## for loop with range()"
   ]
  },
  {
   "cell_type": "code",
   "execution_count": 24,
   "metadata": {},
   "outputs": [
    {
     "name": "stdout",
     "output_type": "stream",
     "text": [
      "1\n",
      "2\n",
      "3\n",
      "4\n",
      "5\n",
      "6\n",
      "7\n",
      "8\n",
      "9\n"
     ]
    }
   ],
   "source": [
    "for r in range(1,10,1):\n",
    "    print(r)"
   ]
  },
  {
   "cell_type": "code",
   "execution_count": 32,
   "metadata": {},
   "outputs": [
    {
     "name": "stdout",
     "output_type": "stream",
     "text": [
      "1   \n",
      "1   \n",
      "2   \n",
      "1   \n",
      "2   \n",
      "3   \n",
      "1   \n",
      "2   \n",
      "3   \n",
      "4   \n"
     ]
    }
   ],
   "source": [
    "'''\n",
    "1\n",
    "1 2\n",
    "1 2 3\n",
    "1 2 3 4\n",
    "'''\n",
    "for i in range(1,5,1):\n",
    "    for j in range(1,(i+1),1):\n",
    "        print(j,\" \",end=\" \")\n",
    "        print('')\n",
    "        "
   ]
  },
  {
   "cell_type": "markdown",
   "metadata": {},
   "source": [
    "## control statements "
   ]
  },
  {
   "cell_type": "code",
   "execution_count": 33,
   "metadata": {},
   "outputs": [],
   "source": [
    "#python supports the following control statement.\n",
    "\n",
    "#.break\n",
    "#.continue\n",
    "#.pass\n"
   ]
  },
  {
   "cell_type": "code",
   "execution_count": 41,
   "metadata": {},
   "outputs": [
    {
     "name": "stdout",
     "output_type": "stream",
     "text": [
      "item: 1\n",
      "item: 2\n",
      "item: 3\n",
      "item: 4\n",
      "item: 5\n",
      "item: 6\n"
     ]
    }
   ],
   "source": [
    "#break\n",
    "\n",
    "for item in range(1,10,1):\n",
    "    if item==7:\n",
    "        break;\n",
    "    print(\"item:\",item)"
   ]
  },
  {
   "cell_type": "code",
   "execution_count": 42,
   "metadata": {},
   "outputs": [
    {
     "name": "stdout",
     "output_type": "stream",
     "text": [
      "item: 1\n",
      "item: 2\n",
      "item: 3\n",
      "item: 4\n",
      "item: 5\n",
      "item: 6\n",
      "item: 8\n",
      "item: 9\n"
     ]
    }
   ],
   "source": [
    "#CONTINUE;\n",
    "\n",
    "for item in range(1,10,1):\n",
    "    if item==7:\n",
    "        continue;\n",
    "    print(\"item:\",item)"
   ]
  },
  {
   "cell_type": "code",
   "execution_count": 45,
   "metadata": {},
   "outputs": [
    {
     "name": "stdout",
     "output_type": "stream",
     "text": [
      "item: 1\n",
      "item: 2\n",
      "item: 3\n",
      "item: 4\n",
      "item: 5\n",
      "item: 6\n",
      "item: 8\n",
      "item: 9\n"
     ]
    }
   ],
   "source": [
    "#PASS\n",
    "\n",
    "for item in range(1,10,1):\n",
    "    if item==7:\n",
    "        pass\n",
    "    else:    \n",
    "        print(\"item:\",item)"
   ]
  },
  {
   "cell_type": "markdown",
   "metadata": {},
   "source": [
    "## what is keyword? which the keyword in python. "
   ]
  },
  {
   "cell_type": "code",
   "execution_count": 1,
   "metadata": {},
   "outputs": [],
   "source": [
    "# a keyword is a reserved word which identifies a syntactic from...in python\n",
    "#also, keyword cannot also be used as the name of variables or functions."
   ]
  },
  {
   "cell_type": "code",
   "execution_count": 2,
   "metadata": {},
   "outputs": [
    {
     "ename": "SyntaxError",
     "evalue": "invalid syntax (<ipython-input-2-1349a5c058aa>, line 1)",
     "output_type": "error",
     "traceback": [
      "\u001b[1;36m  File \u001b[1;32m\"<ipython-input-2-1349a5c058aa>\"\u001b[1;36m, line \u001b[1;32m1\u001b[0m\n\u001b[1;33m    and=5\u001b[0m\n\u001b[1;37m      ^\u001b[0m\n\u001b[1;31mSyntaxError\u001b[0m\u001b[1;31m:\u001b[0m invalid syntax\n"
     ]
    }
   ],
   "source": [
    "and=5\n",
    "print(and)"
   ]
  },
  {
   "cell_type": "code",
   "execution_count": 3,
   "metadata": {},
   "outputs": [
    {
     "name": "stdout",
     "output_type": "stream",
     "text": [
      "\n",
      "Here is a list of the Python keywords.  Enter any keyword to get more help.\n",
      "\n",
      "False               class               from                or\n",
      "None                continue            global              pass\n",
      "True                def                 if                  raise\n",
      "and                 del                 import              return\n",
      "as                  elif                in                  try\n",
      "assert              else                is                  while\n",
      "async               except              lambda              with\n",
      "await               finally             nonlocal            yield\n",
      "break               for                 not                 \n",
      "\n"
     ]
    }
   ],
   "source": [
    "help('keywords')"
   ]
  },
  {
   "cell_type": "code",
   "execution_count": null,
   "metadata": {},
   "outputs": [],
   "source": []
  }
 ],
 "metadata": {
  "kernelspec": {
   "display_name": "Python 3",
   "language": "python",
   "name": "python3"
  },
  "language_info": {
   "codemirror_mode": {
    "name": "ipython",
    "version": 3
   },
   "file_extension": ".py",
   "mimetype": "text/x-python",
   "name": "python",
   "nbconvert_exporter": "python",
   "pygments_lexer": "ipython3",
   "version": "3.7.6"
  }
 },
 "nbformat": 4,
 "nbformat_minor": 4
}
