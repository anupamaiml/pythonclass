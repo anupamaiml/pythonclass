{
 "cells": [
  {
   "cell_type": "markdown",
   "metadata": {},
   "source": [
    "**Decision Control statement** *is a statement that determines the control flow of a set of instructions. means D.C.S decides the sequence in which instruction in the program is to be executed. A program’s control flow is the order in which the program’s code executes. The control flow of a Python program is regulated by conditional statements, loops, and function calls. This section covers the if, elif, else statement and for and while loops, Looping over a sequence of integers is a common task, so Python provides built-in functions range to generate and return integer sequences.*"
   ]
  },
  {
   "cell_type": "code",
   "execution_count": 3,
   "metadata": {},
   "outputs": [
    {
     "data": {
      "text/plain": [
       "range(0, 10)"
      ]
     },
     "execution_count": 3,
     "metadata": {},
     "output_type": "execute_result"
    }
   ],
   "source": [
    "a = range(0,10)\n",
    "a"
   ]
  },
  {
   "cell_type": "code",
   "execution_count": 5,
   "metadata": {},
   "outputs": [
    {
     "name": "stdout",
     "output_type": "stream",
     "text": [
      "0\n",
      "2\n",
      "4\n",
      "6\n",
      "8\n"
     ]
    }
   ],
   "source": [
    "for i in range(10):\n",
    "    if i%2 == 0:\n",
    "        \n",
    "        print(i)"
   ]
  },
  {
   "cell_type": "markdown",
   "metadata": {},
   "source": [
    "## The If Statements\n",
    "\n",
    "Often, you need to execute some statements only if some condition holds, or choose statements to execute depending on several mutually exclusive conditions. The Python compound statement if, which uses if, elif, and else clauses, lets you conditionally execute blocks of statements. The elif and else clauses are optional. Note that unlike some languages, Python does not have a switch statement, so you must use if, elif, and else for all conditional processing."
   ]
  },
  {
   "cell_type": "code",
   "execution_count": 12,
   "metadata": {},
   "outputs": [
    {
     "name": "stdout",
     "output_type": "stream",
     "text": [
      "s is lesser than 10\n",
      "s is the integer value\n"
     ]
    }
   ],
   "source": [
    "s = 10\n",
    "if s<=10:\n",
    "    print(\"s is lesser than 10\")\n",
    "    if type(s) == int:\n",
    "        print(\"s is the integer value\")\n",
    "    elif type(s) == str:\n",
    "        print(\"s is the string\")\n",
    "    else:\n",
    "        print(\"non of the condition is true\")\n",
    "elif s==50:\n",
    "    print(\"s is lesser than 50\")\n",
    "elif s==40:\n",
    "    print(\"s is lesser than 40\")\n",
    "else:\n",
    "    print(\"none of the condition is true\")"
   ]
  },
  {
   "cell_type": "markdown",
   "metadata": {},
   "source": [
    "## For Loop\n",
    "Basically ‘ for ‘ is a keyword of the python programming language used for repeat a task until a specific condition becomes True."
   ]
  },
  {
   "cell_type": "code",
   "execution_count": 14,
   "metadata": {},
   "outputs": [
    {
     "name": "stdout",
     "output_type": "stream",
     "text": [
      "2\n",
      "3\n",
      "4\n",
      "5\n",
      "7\n",
      "10\n",
      "nothing is left\n"
     ]
    }
   ],
   "source": [
    "l = [2, 3, 4, 5, 7,10]\n",
    "for i in l:\n",
    "    print(i)\n",
    "else:\n",
    "    print(\"nothing is left\")\n",
    "    "
   ]
  },
  {
   "cell_type": "markdown",
   "metadata": {},
   "source": [
    "## The While Statement\n",
    "\n",
    "The while statement in Python supports repeated execution of a statement or block of statements that is controlled by a conditional expression."
   ]
  },
  {
   "cell_type": "code",
   "execution_count": 18,
   "metadata": {},
   "outputs": [
    {
     "name": "stdout",
     "output_type": "stream",
     "text": [
      "1 2\n",
      "3 3\n",
      "6 4\n",
      "10 5\n",
      "15 6\n",
      "21 7\n",
      "28 8\n",
      "36 9\n",
      "45 10\n",
      "55 11\n",
      "55\n"
     ]
    }
   ],
   "source": [
    "d = 10\n",
    "s = 0\n",
    "i = 1\n",
    "while i<=d:\n",
    "    s = s+i\n",
    "    i = i+1\n",
    "    print(s,i)\n",
    "print(s)"
   ]
  },
  {
   "cell_type": "markdown",
   "metadata": {},
   "source": [
    "## Break and Continue Statements\n",
    "\n",
    "Sometimes we need more control over when a loop should end, or skip an iteration. In these cases, we use the break and continue keywords, which can be used in both for and while loops."
   ]
  },
  {
   "cell_type": "markdown",
   "metadata": {},
   "source": [
    "**break terminates a loop**\n",
    "\n",
    "**continue skips one iteration of a loop**"
   ]
  },
  {
   "cell_type": "code",
   "execution_count": 28,
   "metadata": {},
   "outputs": [
    {
     "name": "stdout",
     "output_type": "stream",
     "text": [
      "s\n",
      "h\n",
      "i\n",
      "v\n",
      "a\n",
      "m\n",
      "i am able to iterate\n",
      "vh\n"
     ]
    }
   ],
   "source": [
    "for x in \"shivam\":\n",
    "    if x == \"\":\n",
    "        break\n",
    "    print(x)\n",
    "else:\n",
    "    print(\"i am able to iterate\")\n",
    "    \n",
    "print(\"vh\")"
   ]
  },
  {
   "cell_type": "code",
   "execution_count": 29,
   "metadata": {},
   "outputs": [
    {
     "name": "stdout",
     "output_type": "stream",
     "text": [
      "s\n",
      "i\n",
      "g\n",
      "h\n"
     ]
    }
   ],
   "source": [
    "for i in \"singh\":\n",
    "    if i == \"n\":\n",
    "        continue\n",
    "    print(i)"
   ]
  },
  {
   "cell_type": "code",
   "execution_count": 32,
   "metadata": {},
   "outputs": [
    {
     "name": "stdout",
     "output_type": "stream",
     "text": [
      "67\n"
     ]
    }
   ],
   "source": [
    "a = int(input())"
   ]
  },
  {
   "cell_type": "code",
   "execution_count": 33,
   "metadata": {},
   "outputs": [
    {
     "data": {
      "text/plain": [
       "int"
      ]
     },
     "execution_count": 33,
     "metadata": {},
     "output_type": "execute_result"
    }
   ],
   "source": [
    "type(a)"
   ]
  },
  {
   "cell_type": "code",
   "execution_count": 40,
   "metadata": {},
   "outputs": [
    {
     "name": "stdout",
     "output_type": "stream",
     "text": [
      "4\n",
      "2\n",
      "6\n",
      "8\n",
      "9\n",
      "89\n",
      "45\n"
     ]
    }
   ],
   "source": [
    "l = [4,2,6,8,9, 89, 45]\n",
    "m = []\n",
    "for i in l:\n",
    "    if i >=10:\n",
    "        \n",
    "        m.append(i*2)\n",
    "    \n",
    "    print(i)"
   ]
  },
  {
   "cell_type": "code",
   "execution_count": 41,
   "metadata": {},
   "outputs": [
    {
     "data": {
      "text/plain": [
       "[178, 90]"
      ]
     },
     "execution_count": 41,
     "metadata": {},
     "output_type": "execute_result"
    }
   ],
   "source": [
    "m"
   ]
  },
  {
   "cell_type": "code",
   "execution_count": null,
   "metadata": {},
   "outputs": [],
   "source": []
  },
  {
   "cell_type": "code",
   "execution_count": 39,
   "metadata": {},
   "outputs": [
    {
     "name": "stdout",
     "output_type": "stream",
     "text": [
      "3\n",
      "4\n",
      "6\n",
      "1\n",
      "89\n"
     ]
    }
   ],
   "source": [
    "t = (3,4,6,1,89)\n",
    "for i in t:\n",
    "    print(i)"
   ]
  },
  {
   "cell_type": "code",
   "execution_count": 42,
   "metadata": {},
   "outputs": [],
   "source": [
    "d = {\"key\":[1,2,3,4,[45,56]], \"key1\":(4,5,6,12,19), \"key2\":{2,14,34,8}, \"key3\":{'x':\"shivam\", 'y':\"singh\"}}"
   ]
  },
  {
   "cell_type": "code",
   "execution_count": 43,
   "metadata": {},
   "outputs": [
    {
     "data": {
      "text/plain": [
       "{'key': [1, 2, 3, 4, [45, 56]],\n",
       " 'key1': (4, 5, 6, 12, 19),\n",
       " 'key2': {2, 8, 14, 34},\n",
       " 'key3': {'x': 'shivam', 'y': 'singh'}}"
      ]
     },
     "execution_count": 43,
     "metadata": {},
     "output_type": "execute_result"
    }
   ],
   "source": [
    "d"
   ]
  },
  {
   "cell_type": "code",
   "execution_count": 45,
   "metadata": {},
   "outputs": [
    {
     "data": {
      "text/plain": [
       "45"
      ]
     },
     "execution_count": 45,
     "metadata": {},
     "output_type": "execute_result"
    }
   ],
   "source": [
    "d['key'][4][0]"
   ]
  },
  {
   "cell_type": "code",
   "execution_count": 47,
   "metadata": {},
   "outputs": [
    {
     "name": "stdout",
     "output_type": "stream",
     "text": [
      "[1, 2, 3, 4, [45, 56]]\n",
      "(4, 5, 6, 12, 19)\n",
      "{8, 2, 34, 14}\n",
      "{'x': 'shivam', 'y': 'singh'}\n"
     ]
    }
   ],
   "source": [
    "for i in d:\n",
    "    print(d[i])"
   ]
  },
  {
   "cell_type": "code",
   "execution_count": 48,
   "metadata": {},
   "outputs": [
    {
     "data": {
      "text/plain": [
       "'singh'"
      ]
     },
     "execution_count": 48,
     "metadata": {},
     "output_type": "execute_result"
    }
   ],
   "source": [
    "d['key3']['y']"
   ]
  },
  {
   "cell_type": "code",
   "execution_count": 49,
   "metadata": {},
   "outputs": [
    {
     "data": {
      "text/plain": [
       "dict_values([[1, 2, 3, 4, [45, 56]], (4, 5, 6, 12, 19), {8, 2, 34, 14}, {'x': 'shivam', 'y': 'singh'}])"
      ]
     },
     "execution_count": 49,
     "metadata": {},
     "output_type": "execute_result"
    }
   ],
   "source": [
    "d.values()"
   ]
  },
  {
   "cell_type": "code",
   "execution_count": 58,
   "metadata": {},
   "outputs": [],
   "source": [
    "m = []\n",
    "for i in d.values():\n",
    "    \n",
    "    if type(i) == tuple:\n",
    "        for j in i:\n",
    "            m.append(j)"
   ]
  },
  {
   "cell_type": "code",
   "execution_count": 59,
   "metadata": {},
   "outputs": [
    {
     "data": {
      "text/plain": [
       "[4, 5, 6, 12, 19]"
      ]
     },
     "execution_count": 59,
     "metadata": {},
     "output_type": "execute_result"
    }
   ],
   "source": [
    "m"
   ]
  },
  {
   "cell_type": "markdown",
   "metadata": {},
   "source": [
    "## Nested Loop\n",
    "\n",
    "Nested loop is nothing but a loop under a loop means you can also execute a loop under another loop."
   ]
  },
  {
   "cell_type": "code",
   "execution_count": 65,
   "metadata": {},
   "outputs": [
    {
     "name": "stdout",
     "output_type": "stream",
     "text": [
      "1\n",
      "333\n",
      "55555\n",
      "7777777\n",
      "999999999\n"
     ]
    }
   ],
   "source": [
    "for i in range(1,11,2):\n",
    "    for j in range(i):\n",
    "        print( i, end = '')\n",
    "    print()"
   ]
  },
  {
   "cell_type": "code",
   "execution_count": 67,
   "metadata": {},
   "outputs": [
    {
     "ename": "AttributeError",
     "evalue": "'int' object has no attribute 'dict'",
     "output_type": "error",
     "traceback": [
      "\u001b[1;31m---------------------------------------------------------------------------\u001b[0m",
      "\u001b[1;31mAttributeError\u001b[0m                            Traceback (most recent call last)",
      "\u001b[1;32m<ipython-input-67-47f7b8fe0408>\u001b[0m in \u001b[0;36m<module>\u001b[1;34m\u001b[0m\n\u001b[1;32m----> 1\u001b[1;33m \u001b[0ma\u001b[0m\u001b[1;33m.\u001b[0m\u001b[0mdict\u001b[0m\u001b[1;33m(\u001b[0m\u001b[1;33m)\u001b[0m\u001b[1;33m\u001b[0m\u001b[1;33m\u001b[0m\u001b[0m\n\u001b[0m\u001b[0;32m      2\u001b[0m \u001b[0ma\u001b[0m\u001b[1;33m[\u001b[0m\u001b[1;36m1\u001b[0m\u001b[1;33m]\u001b[0m\u001b[1;33m\u001b[0m\u001b[1;33m\u001b[0m\u001b[0m\n",
      "\u001b[1;31mAttributeError\u001b[0m: 'int' object has no attribute 'dict'"
     ]
    }
   ],
   "source": [
    "a.dict()\n",
    "a[1]"
   ]
  },
  {
   "cell_type": "code",
   "execution_count": 68,
   "metadata": {},
   "outputs": [
    {
     "name": "stdout",
     "output_type": "stream",
     "text": [
      "input_sentence : WE, THE PEOPLE OF INDIA, having solemnly resolved to constitute India into a SOVEREIGN, SOCIALIST, SECULAR, DEMOCRATIC REPUBLIC and to secure to all its citizens\n",
      "\n",
      "\n",
      "\n",
      "Formatted sentence : WE, THE PEOPLE OF INDIA,\n",
      "having solemnly resolved to constitute India into a SOVEREIGN, !\n",
      "SOCIALIST, SECULAR, DEMOCRATIC REPUBLIC \n",
      "and to secure to all its citizens:\n"
     ]
    }
   ],
   "source": [
    "input_sentence = \"WE, THE PEOPLE OF INDIA, having solemnly resolved to constitute India into a SOVEREIGN, SOCIALIST, SECULAR, DEMOCRATIC REPUBLIC and to secure to all its citizens\"\n",
    "print (\"input_sentence : \" + input_sentence)\n",
    "\n",
    "print (\"\\n\\n\")\n",
    "\n",
    "formatted_sentence = input_sentence.replace(\"INDIA, \", \"INDIA,\\n\").replace(\"SOVEREIGN, \", \"SOVEREIGN, !\\n\").replace(\"REPUBLIC \", \"REPUBLIC \\n\") + (\":\")\n",
    "print (\"Formatted sentence : \" + formatted_sentence)"
   ]
  },
  {
   "cell_type": "code",
   "execution_count": null,
   "metadata": {},
   "outputs": [],
   "source": []
  }
 ],
 "metadata": {
  "kernelspec": {
   "display_name": "Python 3",
   "language": "python",
   "name": "python3"
  },
  "language_info": {
   "codemirror_mode": {
    "name": "ipython",
    "version": 3
   },
   "file_extension": ".py",
   "mimetype": "text/x-python",
   "name": "python",
   "nbconvert_exporter": "python",
   "pygments_lexer": "ipython3",
   "version": "3.7.6"
  }
 },
 "nbformat": 4,
 "nbformat_minor": 2
}
