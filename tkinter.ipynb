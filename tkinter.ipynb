{
 "cells": [
  {
   "cell_type": "code",
   "execution_count": null,
   "metadata": {},
   "outputs": [],
   "source": [
    "import tkinter\n",
    "from tkinter import *"
   ]
  },
  {
   "cell_type": "code",
   "execution_count": null,
   "metadata": {},
   "outputs": [],
   "source": [
    "win = Tk()\n",
    "\n",
    "b = Button(win, text = 'click here')\n",
    "b.pack()\n",
    "b2 = Button(win, text = 'click me')\n",
    "b2.pack()\n",
    "\n",
    "win.mainloop()\n"
   ]
  },
  {
   "cell_type": "code",
   "execution_count": null,
   "metadata": {},
   "outputs": [],
   "source": [
    "win= Tk()\n",
    "\n",
    "frame = frame(win)\n",
    "frame.pack()\n",
    "frame2 = frame(win)\n",
    "frame2.pack()\n",
    "\n",
    "win.mainloop()"
   ]
  },
  {
   "cell_type": "code",
   "execution_count": null,
   "metadata": {},
   "outputs": [],
   "source": [
    "class Application(tk.Frame):\n",
    "    def __init__(self, master=None):\n",
    "        super().__init__(master)\n",
    "        self.master = master\n",
    "        self.pack()\n",
    "        self.create_widgets()\n",
    "\n",
    "    def create_widgets(self):\n",
    "        self.hi_there = tk.Button(self)\n",
    "        self.hi_there[\"text\"] = \"Hello World\\n(click me)\"\n",
    "        self.hi_there[\"command\"] = self.say_hi\n",
    "        self.hi_there.pack(side=\"top\")\n",
    "\n",
    "        self.quit = tk.Button(self, text=\"QUIT\", fg=\"red\",\n",
    "                              command=self.master.destroy)\n",
    "        self.quit.pack(side=\"bottom\")\n",
    "\n",
    "    def say_hi(self):\n",
    "        print(\"hi there, everyone!\")\n",
    "\n",
    "root = tk.Tk()\n",
    "app = Application(master=root)\n",
    "app.mainloop()"
   ]
  },
  {
   "cell_type": "code",
   "execution_count": 17,
   "metadata": {},
   "outputs": [],
   "source": [
    "from tkinter import *  \n",
    "parent = Tk()  \n",
    "redbutton = Button(parent, text = \"Red\", fg = \"red\")  \n",
    "redbutton.pack( side = LEFT)  \n",
    "greenbutton = Button(parent, text = \"Black\", fg = \"black\")  \n",
    "greenbutton.pack( side = RIGHT )  \n",
    "bluebutton = Button(parent, text = \"Blue\", fg = \"blue\")  \n",
    "bluebutton.pack( side = TOP )  \n",
    "blackbutton = Button(parent, text = \"Green\", fg = \"red\")  \n",
    "blackbutton.pack( side = BOTTOM)  \n",
    "parent.mainloop()  "
   ]
  },
  {
   "cell_type": "code",
   "execution_count": 18,
   "metadata": {},
   "outputs": [],
   "source": [
    "from tkinter import *  \n",
    "#creating the application main window.   \n",
    "top = Tk()  \n",
    "#Entering the event main loop  \n",
    "top.mainloop()  "
   ]
  },
  {
   "cell_type": "code",
   "execution_count": 20,
   "metadata": {},
   "outputs": [],
   "source": [
    "from tkinter import *  \n",
    "parent = Tk()  \n",
    "name = Label(parent,text = \"Name\").grid(row = 0, column = 0)  \n",
    "e1 = Entry(parent).grid(row = 0, column = 1)  \n",
    "password = Label(parent,text = \"Password\").grid(row = 1, column = 0)  \n",
    "e2 = Entry(parent).grid(row = 1, column = 1)  \n",
    "submit = Button(parent, text = \"Submit\").grid(row = 4, column = 0)  \n",
    "parent.mainloop()  "
   ]
  },
  {
   "cell_type": "code",
   "execution_count": 22,
   "metadata": {},
   "outputs": [],
   "source": [
    "from tkinter import *  \n",
    "top = Tk()  \n",
    "top.geometry(\"400x250\")  \n",
    "name = Label(top, text = \"Name\").place(x = 30,y = 50)  \n",
    "email = Label(top, text = \"Email\").place(x = 30, y = 90)  \n",
    "password = Label(top, text = \"Password\").place(x = 30, y = 130)  \n",
    "e1 = Entry(top).place(x = 80, y = 50)  \n",
    "e2 = Entry(top).place(x = 80, y = 90)  \n",
    "e3 = Entry(top).place(x = 95, y = 130)  \n",
    "top.mainloop()"
   ]
  },
  {
   "cell_type": "markdown",
   "metadata": {},
   "source": [
    "## frame"
   ]
  },
  {
   "cell_type": "code",
   "execution_count": null,
   "metadata": {},
   "outputs": [],
   "source": [
    "from tkinter import *  \n",
    "  \n",
    "top = Tk()  \n",
    "top.geometry(\"140x100\")  \n",
    "frame = Frame(top)  \n",
    "frame.pack()  \n",
    "  \n",
    "leftframe = Frame(top)  \n",
    "leftframe.pack(side = LEFT)  \n",
    "  \n",
    "rightframe = Frame(top)  \n",
    "rightframe.pack(side = RIGHT)  \n",
    "  \n",
    "btn1 = Button(frame, text=\"Submit\", fg=\"red\",activebackground = \"red\")  \n",
    "btn1.pack(side = LEFT)  \n",
    "  \n",
    "btn2 = Button(frame, text=\"Remove\", fg=\"brown\", activebackground = \"brown\")  \n",
    "btn2.pack(side = RIGHT)  \n",
    "  \n",
    "btn3 = Button(rightframe, text=\"Add\", fg=\"blue\", activebackground = \"blue\")  \n",
    "btn3.pack(side = LEFT)  \n",
    "  \n",
    "btn4 = Button(leftframe, text=\"Modify\", fg=\"black\", activebackground = \"white\")  \n",
    "btn4.pack(side = RIGHT)  \n",
    "  \n",
    "top.mainloop() "
   ]
  },
  {
   "cell_type": "code",
   "execution_count": null,
   "metadata": {},
   "outputs": [],
   "source": [
    "from tkinter import *  \n",
    "  \n",
    "top = Tk()  \n",
    "  \n",
    "top.geometry(\"400x250\")  \n",
    "  \n",
    "#creating label  \n",
    "uname = Label(top, text = \"Username\").place(x = 30,y = 50)  \n",
    "  \n",
    "#creating label  \n",
    "password = Label(top, text = \"Password\").place(x = 30, y = 90)  \n",
    "  \n",
    "  \n",
    "sbmitbtn = Button(top, text = \"Submit\",activebackground = \"red\", activeforeground = \"red\").place(x = 30, y = 120)  \n",
    "  \n",
    "e1 = Entry(top,width = 20).place(x = 100, y = 50)  \n",
    "  \n",
    "  \n",
    "e2 = Entry(top, width = 20).place(x = 100, y = 90)  \n",
    "  \n",
    "  \n",
    "top.mainloop()  "
   ]
  },
  {
   "cell_type": "code",
   "execution_count": null,
   "metadata": {},
   "outputs": [],
   "source": []
  }
 ],
 "metadata": {
  "kernelspec": {
   "display_name": "Python 3",
   "language": "python",
   "name": "python3"
  },
  "language_info": {
   "codemirror_mode": {
    "name": "ipython",
    "version": 3
   },
   "file_extension": ".py",
   "mimetype": "text/x-python",
   "name": "python",
   "nbconvert_exporter": "python",
   "pygments_lexer": "ipython3",
   "version": "3.7.6"
  }
 },
 "nbformat": 4,
 "nbformat_minor": 4
}
